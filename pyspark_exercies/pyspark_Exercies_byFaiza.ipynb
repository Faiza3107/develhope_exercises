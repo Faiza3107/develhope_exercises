{
  "nbformat": 4,
  "nbformat_minor": 0,
  "metadata": {
    "colab": {
      "provenance": []
    },
    "kernelspec": {
      "name": "python3",
      "display_name": "Python 3"
    },
    "language_info": {
      "name": "python"
    }
  },
  "cells": [
    {
      "cell_type": "code",
      "source": [
        "!pip install pyspark py4j"
      ],
      "metadata": {
        "colab": {
          "base_uri": "https://localhost:8080/"
        },
        "id": "bi-wKIjalZz2",
        "outputId": "7c5cff57-65a4-4a1f-c082-b40ae345779f"
      },
      "execution_count": 1,
      "outputs": [
        {
          "output_type": "stream",
          "name": "stdout",
          "text": [
            "Looking in indexes: https://pypi.org/simple, https://us-python.pkg.dev/colab-wheels/public/simple/\n",
            "Collecting pyspark\n",
            "  Downloading pyspark-3.4.0.tar.gz (310.8 MB)\n",
            "\u001b[2K     \u001b[90m━━━━━━━━━━━━━━━━━━━━━━━━━━━━━━━━━━━━━━━\u001b[0m \u001b[32m310.8/310.8 MB\u001b[0m \u001b[31m4.5 MB/s\u001b[0m eta \u001b[36m0:00:00\u001b[0m\n",
            "\u001b[?25h  Preparing metadata (setup.py) ... \u001b[?25l\u001b[?25hdone\n",
            "Requirement already satisfied: py4j in /usr/local/lib/python3.10/dist-packages (0.10.9.7)\n",
            "Building wheels for collected packages: pyspark\n",
            "  Building wheel for pyspark (setup.py) ... \u001b[?25l\u001b[?25hdone\n",
            "  Created wheel for pyspark: filename=pyspark-3.4.0-py2.py3-none-any.whl size=311317130 sha256=c858e3c7c4943bafcbd4b0f6822141b3b8bfb2adbeec5af260f5770f003fbd32\n",
            "  Stored in directory: /root/.cache/pip/wheels/7b/1b/4b/3363a1d04368e7ff0d408e57ff57966fcdf00583774e761327\n",
            "Successfully built pyspark\n",
            "Installing collected packages: pyspark\n",
            "Successfully installed pyspark-3.4.0\n"
          ]
        }
      ]
    },
    {
      "cell_type": "code",
      "execution_count": 2,
      "metadata": {
        "id": "CNubuAosi1OK"
      },
      "outputs": [],
      "source": [
        "import pyspark\n",
        "from pyspark.sql import SparkSession"
      ]
    },
    {
      "cell_type": "code",
      "source": [
        "spark = SparkSession.builder.master(\"local[*]\").appName(\"Datamanipulation\").getOrCreate()\n"
      ],
      "metadata": {
        "id": "GyAN3cjKlHeQ"
      },
      "execution_count": 3,
      "outputs": []
    },
    {
      "cell_type": "code",
      "source": [
        "#1 read our data - lives in a csv file\n",
        "\n",
        "df = spark.read.option(\"header\",\"true\").csv(\"/content/Sample - EU Superstore.csv\")"
      ],
      "metadata": {
        "id": "gQdQQ1DOlXv1"
      },
      "execution_count": 4,
      "outputs": []
    },
    {
      "cell_type": "code",
      "source": [
        "df.printSchema()"
      ],
      "metadata": {
        "id": "jNisTRoumswq",
        "colab": {
          "base_uri": "https://localhost:8080/"
        },
        "outputId": "202d2aea-d632-43fb-a0b3-2f9afdc4db9a"
      },
      "execution_count": 17,
      "outputs": [
        {
          "output_type": "stream",
          "name": "stdout",
          "text": [
            "root\n",
            " |-- Row ID: string (nullable = true)\n",
            " |-- Order ID: string (nullable = true)\n",
            " |-- Order Date: string (nullable = true)\n",
            " |-- Ship Date: string (nullable = true)\n",
            " |-- Ship Mode: string (nullable = true)\n",
            " |-- Customer ID: string (nullable = true)\n",
            " |-- Customer Name: string (nullable = true)\n",
            " |-- Segment: string (nullable = true)\n",
            " |-- City: string (nullable = true)\n",
            " |-- State: string (nullable = true)\n",
            " |-- Country: string (nullable = true)\n",
            " |-- Region: string (nullable = true)\n",
            " |-- Product ID: string (nullable = true)\n",
            " |-- Category: string (nullable = true)\n",
            " |-- Sub-Category: string (nullable = true)\n",
            " |-- Product Name: string (nullable = true)\n",
            " |-- Sales: string (nullable = true)\n",
            " |-- Quantity: string (nullable = true)\n",
            " |-- Discount: string (nullable = true)\n",
            " |-- Profit: string (nullable = true)\n",
            "\n"
          ]
        }
      ]
    },
    {
      "cell_type": "code",
      "source": [
        "#2 how many rows of the EU Superstore dataset have the country being France\n",
        "df.filter(df['Country'] == 'France').count()\n"
      ],
      "metadata": {
        "id": "9LLbCka6lmI6"
      },
      "execution_count": null,
      "outputs": []
    },
    {
      "cell_type": "code",
      "source": [
        "#3 of those, how many are profitable?\n",
        "df_profit = df.filter((df['Country'] == 'France') & (df['Profit']> 0)).count()\n",
        "df_profit"
      ],
      "metadata": {
        "id": "lDeQN5PQlyBi"
      },
      "execution_count": null,
      "outputs": []
    },
    {
      "cell_type": "code",
      "source": [
        "#4 how many different discount brackets exist? what are they?\n",
        "df_discount = df.groupby('Discount').count().show()"
      ],
      "metadata": {
        "colab": {
          "base_uri": "https://localhost:8080/"
        },
        "id": "NvY2CjVdl2Dz",
        "outputId": "e3cb7492-01b4-46f1-b857-637fafb32c77"
      },
      "execution_count": 5,
      "outputs": [
        {
          "output_type": "stream",
          "name": "stdout",
          "text": [
            "+--------+-----+\n",
            "|Discount|count|\n",
            "+--------+-----+\n",
            "|     0.3|   51|\n",
            "|     0.7|    6|\n",
            "|       0| 6134|\n",
            "|     0.2|  125|\n",
            "|    0.15|  407|\n",
            "|    0.35|   45|\n",
            "|     0.8|    4|\n",
            "|    0.45|    2|\n",
            "|     0.5| 1080|\n",
            "|    0.65|   17|\n",
            "|     0.6|  116|\n",
            "|     0.1| 1737|\n",
            "|    0.85|    2|\n",
            "|     0.4|  274|\n",
            "+--------+-----+\n",
            "\n"
          ]
        }
      ]
    },
    {
      "cell_type": "code",
      "source": [
        "#5 let's see the total profit by discount bracket, make sure they are ordered by \n",
        "df1 = df.groupby('Discount').agg({'Profit': 'sum'}).orderBy('sum(Profit)', descending = True)\n",
        "df2=df1.withColumnRenamed('sum(Profit)' , 'total_profit')\n",
        "df2.show()\n",
        "#we see that the higher the discount the less profit we get from the sales "
      ],
      "metadata": {
        "colab": {
          "base_uri": "https://localhost:8080/"
        },
        "id": "tTzJJ986l4VN",
        "outputId": "f0414691-73bc-4904-95df-6601d0461930"
      },
      "execution_count": 6,
      "outputs": [
        {
          "output_type": "stream",
          "name": "stdout",
          "text": [
            "+--------+-------------------+\n",
            "|Discount|       total_profit|\n",
            "+--------+-------------------+\n",
            "|     0.5|         -96632.115|\n",
            "|     0.4|-21346.427999999996|\n",
            "|     0.6|-20517.456000000002|\n",
            "|    0.35|          -9122.649|\n",
            "|    0.65| -6221.965499999999|\n",
            "|     0.7|          -5496.765|\n",
            "|    0.85|          -3068.658|\n",
            "|    0.45|         -1103.1915|\n",
            "|     0.3| -758.4209999999999|\n",
            "|     0.8|           -460.284|\n",
            "|     0.2| 2189.5499999999984|\n",
            "|    0.15| 24677.563499999975|\n",
            "|     0.1|  126884.0309999999|\n",
            "|       0| 383806.53000000026|\n",
            "+--------+-------------------+\n",
            "\n"
          ]
        }
      ]
    },
    {
      "cell_type": "code",
      "source": [
        "#6 what is the value after which we should stop offering discount?\n",
        "from pyspark.sql.functions import when\n",
        "df_stop = df2.withColumn('discount_offering', when((df2['total_profit'] >=0),'profitable').otherwise('stop'))\n",
        "df_stop.show()\n",
        "#we should stop at 0.8"
      ],
      "metadata": {
        "colab": {
          "base_uri": "https://localhost:8080/"
        },
        "id": "qVEeAebYl6w1",
        "outputId": "0d12396d-4c9f-4d2d-853f-4bb7564e7d9a"
      },
      "execution_count": 7,
      "outputs": [
        {
          "output_type": "stream",
          "name": "stdout",
          "text": [
            "+--------+-------------------+-----------------+\n",
            "|Discount|       total_profit|discount_offering|\n",
            "+--------+-------------------+-----------------+\n",
            "|     0.5|         -96632.115|             stop|\n",
            "|     0.4|-21346.427999999996|             stop|\n",
            "|     0.6|-20517.456000000002|             stop|\n",
            "|    0.35|          -9122.649|             stop|\n",
            "|    0.65| -6221.965499999999|             stop|\n",
            "|     0.7|          -5496.765|             stop|\n",
            "|    0.85|          -3068.658|             stop|\n",
            "|    0.45|         -1103.1915|             stop|\n",
            "|     0.3| -758.4209999999999|             stop|\n",
            "|     0.8|           -460.284|             stop|\n",
            "|     0.2| 2189.5499999999984|       profitable|\n",
            "|    0.15| 24677.563499999975|       profitable|\n",
            "|     0.1|  126884.0309999999|       profitable|\n",
            "|       0| 383806.53000000026|       profitable|\n",
            "+--------+-------------------+-----------------+\n",
            "\n"
          ]
        }
      ]
    },
    {
      "cell_type": "code",
      "source": [
        "#7.# who are the top 5 most profitable customers\n",
        "df_customers = df.groupby('Customer Name',).agg({'Profit': 'sum'}).orderBy('sum(Profit)', ascending = False)\n",
        "df_customers.show(5)"
      ],
      "metadata": {
        "colab": {
          "base_uri": "https://localhost:8080/"
        },
        "id": "XexLVmzo6Ygj",
        "outputId": "5c9f6a4c-340f-4eec-b79b-4b98f068638a"
      },
      "execution_count": 8,
      "outputs": [
        {
          "output_type": "stream",
          "name": "stdout",
          "text": [
            "+-----------------+------------------+\n",
            "|    Customer Name|       sum(Profit)|\n",
            "+-----------------+------------------+\n",
            "|     Susan Pistek| 4974.512999999999|\n",
            "|    Patrick Jones|3986.0039999999995|\n",
            "|Patrick O'Donnell|          3778.197|\n",
            "|    Ellis Ballard|           3459.66|\n",
            "|  Mike Gockenbach|3144.4439999999995|\n",
            "+-----------------+------------------+\n",
            "only showing top 5 rows\n",
            "\n"
          ]
        }
      ]
    },
    {
      "cell_type": "code",
      "source": [
        "#8 get all the rows belonging to those 5 customer names: hint, you may need the collect method - how many rows are they?\n",
        "df_customers.collect()[0:5]"
      ],
      "metadata": {
        "colab": {
          "base_uri": "https://localhost:8080/"
        },
        "id": "GRiQvSoimAOH",
        "outputId": "1f6453cb-eb4e-49c8-9e95-ad26d42f2cb7"
      },
      "execution_count": 9,
      "outputs": [
        {
          "output_type": "execute_result",
          "data": {
            "text/plain": [
              "[Row(Customer Name='Susan Pistek', sum(Profit)=4974.512999999999),\n",
              " Row(Customer Name='Patrick Jones', sum(Profit)=3986.0039999999995),\n",
              " Row(Customer Name=\"Patrick O'Donnell\", sum(Profit)=3778.197),\n",
              " Row(Customer Name='Ellis Ballard', sum(Profit)=3459.66),\n",
              " Row(Customer Name='Mike Gockenbach', sum(Profit)=3144.4439999999995)]"
            ]
          },
          "metadata": {},
          "execution_count": 9
        }
      ]
    },
    {
      "cell_type": "code",
      "source": [
        "#9 create a new column which is the value of the sale where there are no discount applied. Hint: orginal = sales/(1-d)\n",
        "df5 = df.withColumn('sales_original', df.Sales/(1-(df.Discount)))\n",
        "df5.select('Sales', 'sales_original').show()"
      ],
      "metadata": {
        "colab": {
          "base_uri": "https://localhost:8080/"
        },
        "id": "ZGL77WZXmE3B",
        "outputId": "23f0090c-d094-4a96-a949-66f823c0869c"
      },
      "execution_count": 21,
      "outputs": [
        {
          "output_type": "stream",
          "name": "stdout",
          "text": [
            "+--------+------------------+\n",
            "|   Sales|    sales_original|\n",
            "+--------+------------------+\n",
            "|    79.2|              79.2|\n",
            "|  388.92|            388.92|\n",
            "|   35.19|             35.19|\n",
            "|   50.94|             50.94|\n",
            "|  307.44|            307.44|\n",
            "|   122.4|             122.4|\n",
            "|  413.82|            413.82|\n",
            "|  428.22|            428.22|\n",
            "| 3979.29|           3979.29|\n",
            "|   43.56|             43.56|\n",
            "|   25.26|             25.26|\n",
            "|2443.905|2715.4500000000003|\n",
            "|   12.21|             12.21|\n",
            "|2167.296|2549.7599999999998|\n",
            "| 138.105|            153.45|\n",
            "| 128.385|142.64999999999998|\n",
            "|  690.12|            690.12|\n",
            "|    8.16|              8.16|\n",
            "|  347.88|            347.88|\n",
            "| 575.505| 639.4499999999999|\n",
            "+--------+------------------+\n",
            "only showing top 20 rows\n",
            "\n"
          ]
        }
      ]
    },
    {
      "cell_type": "code",
      "source": [
        "#10 calculate the difference between sales and discount value\n",
        "df_diff = df5.withColumn('Sales-discount_diff', (df5.sales_original)-df5.Sales)\n",
        "df_diff.select('Sales','Discount','Sales-discount_diff').show()"
      ],
      "metadata": {
        "colab": {
          "base_uri": "https://localhost:8080/"
        },
        "id": "1wYBy0otmJti",
        "outputId": "7068681b-ff5b-4d95-b31a-9a069ceea80c"
      },
      "execution_count": 23,
      "outputs": [
        {
          "output_type": "stream",
          "name": "stdout",
          "text": [
            "+--------+--------+-------------------+\n",
            "|   Sales|Discount|Sales-discount_diff|\n",
            "+--------+--------+-------------------+\n",
            "|    79.2|       0|                0.0|\n",
            "|  388.92|       0|                0.0|\n",
            "|   35.19|       0|                0.0|\n",
            "|   50.94|       0|                0.0|\n",
            "|  307.44|       0|                0.0|\n",
            "|   122.4|       0|                0.0|\n",
            "|  413.82|       0|                0.0|\n",
            "|  428.22|       0|                0.0|\n",
            "| 3979.29|       0|                0.0|\n",
            "|   43.56|       0|                0.0|\n",
            "|   25.26|       0|                0.0|\n",
            "|2443.905|     0.1|  271.5450000000001|\n",
            "|   12.21|       0|                0.0|\n",
            "|2167.296|    0.15| 382.46399999999994|\n",
            "| 138.105|     0.1| 15.344999999999999|\n",
            "| 128.385|     0.1| 14.264999999999986|\n",
            "|  690.12|       0|                0.0|\n",
            "|    8.16|       0|                0.0|\n",
            "|  347.88|       0|                0.0|\n",
            "| 575.505|     0.1| 63.944999999999936|\n",
            "+--------+--------+-------------------+\n",
            "only showing top 20 rows\n",
            "\n"
          ]
        }
      ]
    },
    {
      "cell_type": "code",
      "source": [
        "#11 how much money did we not gain due to the discounts - per discount bracket?\n",
        "df3= df_diff.groupby('Discount').agg({'Sales-discount_diff':'sum'})\n",
        "df3.show(5)\n",
        "#164727 amount of money was not gained due to discount "
      ],
      "metadata": {
        "colab": {
          "base_uri": "https://localhost:8080/"
        },
        "id": "nWEEjLH0mNSw",
        "outputId": "1cb70a9c-08e1-4dd2-d69a-fb101ca9e830"
      },
      "execution_count": 24,
      "outputs": [
        {
          "output_type": "stream",
          "name": "stdout",
          "text": [
            "+--------+------------------------+\n",
            "|Discount|sum(Sales-discount_diff)|\n",
            "+--------+------------------------+\n",
            "|     0.3|      2630.2410000000004|\n",
            "|     0.7|                8534.085|\n",
            "|       0|                     0.0|\n",
            "|     0.2|      10653.119999999997|\n",
            "|    0.15|       45233.17650000002|\n",
            "+--------+------------------------+\n",
            "only showing top 5 rows\n",
            "\n"
          ]
        }
      ]
    },
    {
      "cell_type": "code",
      "source": [
        "#12 find the discount bracket which made us not gain the most (dynamically)\n",
        "data = df3.orderBy('sum(Sales-discount_diff)' , ascending=False)\n",
        "data.collect()[0]"
      ],
      "metadata": {
        "colab": {
          "base_uri": "https://localhost:8080/"
        },
        "id": "nnk5hoK7mP0k",
        "outputId": "78e65683-9f09-4a5f-c398-2d161e5b6366"
      },
      "execution_count": 25,
      "outputs": [
        {
          "output_type": "execute_result",
          "data": {
            "text/plain": [
              "Row(Discount='0.5', sum(Sales-discount_diff)=183734.26500000045)"
            ]
          },
          "metadata": {},
          "execution_count": 25
        }
      ]
    },
    {
      "cell_type": "code",
      "source": [
        "#13 what would have been the total profit if we removed all orders from that discount group? \n",
        "df2 = df.filter( df['Discount']!=0.5)\n",
        "df2.select('Discount').distinct().show()\n",
        "from pyspark.sql.functions import sum\n",
        "df2.select(sum( df['Profit'])).collect()[0][0]"
      ],
      "metadata": {
        "colab": {
          "base_uri": "https://localhost:8080/"
        },
        "id": "TPRhrgUbmSS_",
        "outputId": "9a8c1259-333d-4b45-92fb-ec7c291572db"
      },
      "execution_count": 27,
      "outputs": [
        {
          "output_type": "stream",
          "name": "stdout",
          "text": [
            "+--------+\n",
            "|Discount|\n",
            "+--------+\n",
            "|     0.3|\n",
            "|     0.7|\n",
            "|       0|\n",
            "|     0.2|\n",
            "|    0.15|\n",
            "|    0.35|\n",
            "|     0.8|\n",
            "|    0.45|\n",
            "|    0.65|\n",
            "|     0.6|\n",
            "|     0.1|\n",
            "|    0.85|\n",
            "|     0.4|\n",
            "+--------+\n",
            "\n"
          ]
        },
        {
          "output_type": "execute_result",
          "data": {
            "text/plain": [
              "469461.8565000003"
            ]
          },
          "metadata": {},
          "execution_count": 27
        }
      ]
    },
    {
      "cell_type": "code",
      "source": [
        "#14 how much more (or less) profit is that?\n",
        "df.select( sum(df[\"Profit\"])).collect()[0][0] - df2.select( sum(df[\"Profit\"])).collect()[0][0] "
      ],
      "metadata": {
        "colab": {
          "base_uri": "https://localhost:8080/"
        },
        "id": "Blg-w6J5mUqi",
        "outputId": "0531cf51-da56-4215-f4a6-66ef26319a11"
      },
      "execution_count": 28,
      "outputs": [
        {
          "output_type": "execute_result",
          "data": {
            "text/plain": [
              "-96632.11499999976"
            ]
          },
          "metadata": {},
          "execution_count": 28
        }
      ]
    },
    {
      "cell_type": "code",
      "source": [
        "#15 create a temporary table for our superstore table in sql\n",
        "df.createOrReplaceTempView('table')\n",
        "dfSQL = spark.sql('SELECT * FROM table')\n",
        "dfSQL.show(2)"
      ],
      "metadata": {
        "colab": {
          "base_uri": "https://localhost:8080/"
        },
        "id": "tJRhAxoVmW74",
        "outputId": "2e8df34e-8579-4ff8-e381-d539d95c0937"
      },
      "execution_count": 29,
      "outputs": [
        {
          "output_type": "stream",
          "name": "stdout",
          "text": [
            "+------+---------------+----------+----------+--------------+-----------+--------------+---------+-----+-------+--------------+------+---------------+---------------+------------+--------------------+------+--------+--------+------+\n",
            "|Row ID|       Order ID|Order Date| Ship Date|     Ship Mode|Customer ID| Customer Name|  Segment| City|  State|       Country|Region|     Product ID|       Category|Sub-Category|        Product Name| Sales|Quantity|Discount|Profit|\n",
            "+------+---------------+----------+----------+--------------+-----------+--------------+---------+-----+-------+--------------+------+---------------+---------------+------------+--------------------+------+--------+--------+------+\n",
            "|     1|ES-2017-1311038|07/02/2017|11/02/2017|Standard Class|   AS-10045|Aaron Smayling|Corporate|Leeds|England|United Kingdom| North|OFF-ST-10000988|Office Supplies|     Storage|Fellowes Folders,...|  79.2|       3|       0|  39.6|\n",
            "|     2|ES-2017-1311038|07/02/2017|11/02/2017|Standard Class|   AS-10045|Aaron Smayling|Corporate|Leeds|England|United Kingdom| North|TEC-AC-10004144|     Technology| Accessories|SanDisk Numeric K...|388.92|       7|       0|     0|\n",
            "+------+---------------+----------+----------+--------------+-----------+--------------+---------+-----+-------+--------------+------+---------------+---------------+------------+--------------------+------+--------+--------+------+\n",
            "only showing top 2 rows\n",
            "\n"
          ]
        }
      ]
    },
    {
      "cell_type": "code",
      "source": [
        "#16 use an SQL query to count the number of rows\n",
        "dfSQL.count()"
      ],
      "metadata": {
        "colab": {
          "base_uri": "https://localhost:8080/"
        },
        "id": "QoDWKFYxmZ1H",
        "outputId": "15d60379-5e84-47d0-e59a-a8dade99c666"
      },
      "execution_count": 30,
      "outputs": [
        {
          "output_type": "execute_result",
          "data": {
            "text/plain": [
              "10000"
            ]
          },
          "metadata": {},
          "execution_count": 30
        }
      ]
    },
    {
      "cell_type": "code",
      "source": [
        "#17 Use an SQL query to calculate the profit ratio for each country: hint, ratio is sum(profit)/sum(sales)\n",
        "data = spark.sql(\" SELECT Country, SUM(Profit), SUM(Sales) , SUM(Profit)/SUM(Sales) as Profit_Ratio FROM table GROUP BY Country\")\n",
        "data.show()"
      ],
      "metadata": {
        "colab": {
          "base_uri": "https://localhost:8080/"
        },
        "id": "4W3u1788mcT-",
        "outputId": "958c4385-9bc1-4d5f-aca9-ef2da9f10d05"
      },
      "execution_count": 31,
      "outputs": [
        {
          "output_type": "stream",
          "name": "stdout",
          "text": [
            "+--------------+-------------------+------------------+--------------------+\n",
            "|       Country|        sum(Profit)|        sum(Sales)|        Profit_Ratio|\n",
            "+--------------+-------------------+------------------+--------------------+\n",
            "|        Sweden|-17519.366999999987|         30491.403| -0.5745674280714466|\n",
            "|       Germany| 107322.82049999991| 628840.0305000001| 0.17066792076621765|\n",
            "|        France| 109029.00299999975|  858931.082999999| 0.12693568221933804|\n",
            "|       Belgium|           11572.59| 49226.70000000003| 0.23508766583987942|\n",
            "|       Finland|            3905.73|20704.350000000002| 0.18864296633316185|\n",
            "|         Italy| 19828.757999999965|289709.65799999936| 0.06844355185424991|\n",
            "|        Norway|            5167.77|20525.370000000003|  0.2517747548521659|\n",
            "|         Spain|  54390.11999999999| 287146.6800000002| 0.18941580658358978|\n",
            "|       Denmark|-4282.0470000000005| 8638.053000000002| -0.4957190005664471|\n",
            "|       Ireland| -7392.381000000003|16639.508999999995|-0.44426677493909256|\n",
            "|   Switzerland|  7237.470000000001|24877.860000000004|  0.2909201193350232|\n",
            "|      Portugal| -8703.059999999998|          15105.12| -0.5761662270806188|\n",
            "|       Austria|           21442.26| 81162.00000000006|  0.2641908775042505|\n",
            "|United Kingdom| 111900.15000000001| 528576.2999999992| 0.21170103540397134|\n",
            "|   Netherlands| -41070.07499999996| 77514.94500000008| -0.5298342790541865|\n",
            "+--------------+-------------------+------------------+--------------------+\n",
            "\n"
          ]
        }
      ]
    },
    {
      "cell_type": "code",
      "source": [
        "#18 is the country with the largest profit ratio, the country with the largest profit? No, its not \n",
        "data = spark.sql(\" SELECT Country, SUM(Profit), SUM(Sales) , SUM(Profit)/SUM(Sales) as Profit_Ratio FROM table GROUP BY Country ORDER BY Profit_Ratio DESC\")\n",
        "data.show()"
      ],
      "metadata": {
        "colab": {
          "base_uri": "https://localhost:8080/"
        },
        "id": "vHZFH40_mel1",
        "outputId": "fbe8ba9e-56b5-4e42-d75e-49eb8c229574"
      },
      "execution_count": null,
      "outputs": [
        {
          "output_type": "stream",
          "name": "stdout",
          "text": [
            "+--------------+-------------------+------------------+--------------------+\n",
            "|       Country|        sum(Profit)|        sum(Sales)|        Profit_Ratio|\n",
            "+--------------+-------------------+------------------+--------------------+\n",
            "|   Switzerland|  7237.470000000001|24877.860000000004|  0.2909201193350232|\n",
            "|       Austria|           21442.26| 81162.00000000006|  0.2641908775042505|\n",
            "|        Norway|            5167.77|20525.370000000003|  0.2517747548521659|\n",
            "|       Belgium|           11572.59| 49226.70000000003| 0.23508766583987942|\n",
            "|United Kingdom| 111900.15000000001| 528576.2999999992| 0.21170103540397134|\n",
            "|         Spain|  54390.11999999999| 287146.6800000002| 0.18941580658358978|\n",
            "|       Finland|            3905.73|20704.350000000002| 0.18864296633316185|\n",
            "|       Germany| 107322.82049999991| 628840.0305000001| 0.17066792076621765|\n",
            "|        France| 109029.00299999975|  858931.082999999| 0.12693568221933804|\n",
            "|         Italy| 19828.757999999965|289709.65799999936| 0.06844355185424991|\n",
            "|       Ireland| -7392.381000000003|16639.508999999995|-0.44426677493909256|\n",
            "|       Denmark|-4282.0470000000005| 8638.053000000002| -0.4957190005664471|\n",
            "|   Netherlands| -41070.07499999996| 77514.94500000008| -0.5298342790541865|\n",
            "|        Sweden|-17519.366999999987|         30491.403| -0.5745674280714466|\n",
            "|      Portugal| -8703.059999999998|          15105.12| -0.5761662270806188|\n",
            "+--------------+-------------------+------------------+--------------------+\n",
            "\n"
          ]
        }
      ]
    }
  ]
}